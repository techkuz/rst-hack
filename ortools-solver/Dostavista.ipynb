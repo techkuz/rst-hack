{
 "cells": [
  {
   "cell_type": "code",
   "execution_count": 1,
   "metadata": {
    "collapsed": true,
    "jupyter": {
     "outputs_hidden": true
    }
   },
   "outputs": [
    {
     "name": "stdout",
     "output_type": "stream",
     "text": [
      "Requirement already up-to-date: scipy in /Users/nmurzin/.pyenv/versions/3.6.3/envs/diversityhack/lib/python3.6/site-packages\n",
      "Requirement already up-to-date: matplotlib in /Users/nmurzin/.pyenv/versions/3.6.3/envs/diversityhack/lib/python3.6/site-packages\n",
      "Requirement already up-to-date: scikit-learn in /Users/nmurzin/.pyenv/versions/3.6.3/envs/diversityhack/lib/python3.6/site-packages\n",
      "Requirement already up-to-date: tqdm in /Users/nmurzin/.pyenv/versions/3.6.3/envs/diversityhack/lib/python3.6/site-packages\n",
      "Requirement already up-to-date: ortools in /Users/nmurzin/.pyenv/versions/3.6.3/envs/diversityhack/lib/python3.6/site-packages\n",
      "Requirement already up-to-date: numpy>=1.13.3 in /Users/nmurzin/.pyenv/versions/3.6.3/envs/diversityhack/lib/python3.6/site-packages (from scipy)\n",
      "Requirement already up-to-date: kiwisolver>=1.0.1 in /Users/nmurzin/.pyenv/versions/3.6.3/envs/diversityhack/lib/python3.6/site-packages (from matplotlib)\n",
      "Requirement already up-to-date: cycler>=0.10 in /Users/nmurzin/.pyenv/versions/3.6.3/envs/diversityhack/lib/python3.6/site-packages (from matplotlib)\n",
      "Requirement already up-to-date: pyparsing!=2.0.4,!=2.1.2,!=2.1.6,>=2.0.1 in /Users/nmurzin/.pyenv/versions/3.6.3/envs/diversityhack/lib/python3.6/site-packages (from matplotlib)\n",
      "Requirement already up-to-date: python-dateutil>=2.1 in /Users/nmurzin/.pyenv/versions/3.6.3/envs/diversityhack/lib/python3.6/site-packages (from matplotlib)\n",
      "Requirement already up-to-date: joblib>=0.11 in /Users/nmurzin/.pyenv/versions/3.6.3/envs/diversityhack/lib/python3.6/site-packages (from scikit-learn)\n",
      "Requirement already up-to-date: protobuf>=3.9.0 in /Users/nmurzin/.pyenv/versions/3.6.3/envs/diversityhack/lib/python3.6/site-packages (from ortools)\n",
      "Requirement already up-to-date: six>=1.10 in /Users/nmurzin/.pyenv/versions/3.6.3/envs/diversityhack/lib/python3.6/site-packages (from ortools)\n",
      "Requirement already up-to-date: setuptools in /Users/nmurzin/.pyenv/versions/3.6.3/envs/diversityhack/lib/python3.6/site-packages (from kiwisolver>=1.0.1->matplotlib)\n",
      "\u001b[33mYou are using pip version 9.0.1, however version 19.2.3 is available.\n",
      "You should consider upgrading via the 'pip install --upgrade pip' command.\u001b[0m\n"
     ]
    }
   ],
   "source": [
    "!pip install scipy matplotlib scikit-learn tqdm ortools -U"
   ]
  },
  {
   "cell_type": "code",
   "execution_count": 2,
   "metadata": {},
   "outputs": [
    {
     "name": "stdout",
     "output_type": "stream",
     "text": [
      "Using matplotlib backend: MacOSX\n",
      "Populating the interactive namespace from numpy and matplotlib\n"
     ]
    }
   ],
   "source": [
    "import json\n",
    "import matplotlib.pyplot as plt\n",
    "import numpy as np\n",
    "%pylab"
   ]
  },
  {
   "cell_type": "code",
   "execution_count": 176,
   "metadata": {},
   "outputs": [],
   "source": [
    "data = json.load(open('phystech/data/hard_input.json'))\n",
    "couriers = data['couriers']\n",
    "depots = data['depots']\n",
    "orders = data['orders']"
   ]
  },
  {
   "cell_type": "code",
   "execution_count": 177,
   "metadata": {},
   "outputs": [],
   "source": [
    "# courier initial time windows\n",
    "for i, courier in enumerate(couriers):\n",
    "    courier['from'] = 6 * 60\n",
    "    courier['to'] = 24 * 60"
   ]
  },
  {
   "cell_type": "code",
   "execution_count": 178,
   "metadata": {},
   "outputs": [],
   "source": [
    "depots = []"
   ]
  },
  {
   "cell_type": "code",
   "execution_count": 179,
   "metadata": {},
   "outputs": [],
   "source": [
    "# Manhattan\n",
    "def manhattan_distance(x1, y1, x2, y2):\n",
    "    return abs(x1 - x2) + abs(y1 - y2)"
   ]
  },
  {
   "cell_type": "code",
   "execution_count": 180,
   "metadata": {},
   "outputs": [
    {
     "name": "stdout",
     "output_type": "stream",
     "text": [
      "Total orders: 5, Impossible without depot: 0\n"
     ]
    }
   ],
   "source": [
    "impossible_orders = 0\n",
    "filtered_orders = []\n",
    "for order in orders:\n",
    "    distance = manhattan_distance(order['pickup_location_x'], order['pickup_location_y'], \n",
    "                                  order['dropoff_location_x'], order['dropoff_location_y'])\n",
    "    \n",
    "    closest_courier = None\n",
    "    closest_courier_distance = np.inf\n",
    "    for courier in couriers:\n",
    "        courier_distance = manhattan_distance(courier['location_x'], courier['location_y'], \n",
    "                                              order['pickup_location_x'], order['pickup_location_y'])\n",
    "        \n",
    "        if courier_distance < closest_courier_distance:\n",
    "            closest_courier = courier\n",
    "            closest_courier_distance = courier_distance\n",
    "    \n",
    "    max_window = order['dropoff_to'] - max(order['pickup_from'], 360 + closest_courier_distance)\n",
    "    \n",
    "    if distance >= max_window:\n",
    "        impossible_orders += 1\n",
    "    else:\n",
    "        filtered_orders.append(order)\n",
    "        \n",
    "print(f\"Total orders: {len(orders)}, Impossible without depot: {impossible_orders}\")"
   ]
  },
  {
   "cell_type": "code",
   "execution_count": 181,
   "metadata": {},
   "outputs": [],
   "source": [
    "orders = filtered_orders"
   ]
  },
  {
   "cell_type": "code",
   "execution_count": 182,
   "metadata": {},
   "outputs": [
    {
     "data": {
      "text/plain": [
       "0"
      ]
     },
     "execution_count": 182,
     "metadata": {},
     "output_type": "execute_result"
    }
   ],
   "source": [
    "# fix order's time windows\n",
    "bad_order_counter = 0\n",
    "for order in orders:\n",
    "    if order['pickup_to'] <= order['pickup_from']:\n",
    "        order['pickup_to'], order['pickup_from'] = order['pickup_from'], order['pickup_to']\n",
    "        bad_order_counter += 1\n",
    "        print(order['pickup_from'], order['pickup_to'])\n",
    "        \n",
    "    if order['dropoff_to'] <= order['dropoff_from']:\n",
    "        order['dropoff_to'], order['dropoff_from'] = order['dropoff_from'], order['dropoff_to']\n",
    "        bad_order_counter += 1\n",
    "        print(order['dropoff_from'], order['dropoff_to'])\n",
    "bad_order_counter"
   ]
  },
  {
   "cell_type": "code",
   "execution_count": 183,
   "metadata": {},
   "outputs": [],
   "source": [
    "payments = [order['payment'] for order in orders]"
   ]
  },
  {
   "cell_type": "code",
   "execution_count": 184,
   "metadata": {},
   "outputs": [
    {
     "data": {
      "text/plain": [
       "(900.0, 0.0)"
      ]
     },
     "execution_count": 184,
     "metadata": {},
     "output_type": "execute_result"
    }
   ],
   "source": [
    "np.mean(payments), np.std(payments)"
   ]
  },
  {
   "cell_type": "code",
   "execution_count": 185,
   "metadata": {},
   "outputs": [
    {
     "data": {
      "text/plain": [
       "(array([0., 0., 0., 0., 0., 5., 0., 0., 0., 0.]),\n",
       " array([899.5, 899.6, 899.7, 899.8, 899.9, 900. , 900.1, 900.2, 900.3,\n",
       "        900.4, 900.5]),\n",
       " <a list of 10 Patch objects>)"
      ]
     },
     "execution_count": 185,
     "metadata": {},
     "output_type": "execute_result"
    },
    {
     "data": {
      "image/png": "[encoded data removed]",
      "text/plain": [
       "<Figure size 432x288 with 1 Axes>"
      ]
     },
     "metadata": {
      "needs_background": "light"
     },
     "output_type": "display_data"
    }
   ],
   "source": [
    "plt.hist(payments)"
   ]
  },
  {
   "cell_type": "code",
   "execution_count": 186,
   "metadata": {},
   "outputs": [
    {
     "data": {
      "text/plain": [
       "(5, 0, 5)"
      ]
     },
     "execution_count": 186,
     "metadata": {},
     "output_type": "execute_result"
    }
   ],
   "source": [
    "len(couriers), len(depots), len(orders)"
   ]
  },
  {
   "cell_type": "code",
   "execution_count": 187,
   "metadata": {},
   "outputs": [],
   "source": [
    "depot_positions = []\n",
    "for depot in depots:\n",
    "    depot_positions.append([depot['location_x'], depot['location_y']])\n",
    "    \n",
    "courier_positions = []\n",
    "for courier in couriers:\n",
    "    courier_positions.append([courier['location_x'], courier['location_y']])"
   ]
  },
  {
   "cell_type": "code",
   "execution_count": 188,
   "metadata": {},
   "outputs": [
    {
     "data": {
      "text/plain": [
       "30"
      ]
     },
     "execution_count": 188,
     "metadata": {},
     "output_type": "execute_result"
    }
   ],
   "source": [
    "min(order['pickup_location_y'] for order in orders)"
   ]
  },
  {
   "cell_type": "code",
   "execution_count": 189,
   "metadata": {},
   "outputs": [
    {
     "data": {
      "image/png": "[encoded data removed]",
      "text/plain": [
       "<Figure size 432x288 with 1 Axes>"
      ]
     },
     "metadata": {
      "needs_background": "light"
     },
     "output_type": "display_data"
    }
   ],
   "source": [
    "plt.xlim(0, 400)\n",
    "plt.ylim(0, 400)\n",
    "for order in np.random.choice(orders, 100):\n",
    "    a_x, a_y = order['pickup_location_x'], order['pickup_location_y']\n",
    "    b_x, b_y = order['dropoff_location_x'], order['dropoff_location_y']\n",
    "    plt.arrow(a_x, a_y, b_x - a_x, b_y - a_y, head_width=10, head_length=10, color='blue')\n",
    "    \n",
    "plt.scatter(*np.transpose(courier_positions), c='red')\n",
    "if depot_positions:\n",
    "    plt.scatter(*np.transpose(depot_positions), c='black')                  \n",
    "plt.show()"
   ]
  },
  {
   "cell_type": "markdown",
   "metadata": {},
   "source": [
    "## Clusterization"
   ]
  },
  {
   "cell_type": "code",
   "execution_count": 190,
   "metadata": {},
   "outputs": [],
   "source": [
    "from sklearn.cluster import DBSCAN, KMeans\n",
    "from sklearn import metrics"
   ]
  },
  {
   "cell_type": "code",
   "execution_count": 191,
   "metadata": {},
   "outputs": [],
   "source": [
    "import pdb\n",
    "\n",
    "min_radius = 12\n",
    "max_radius = 42\n",
    "min_no_clusters = 50\n",
    "max_avg_cluster_size = 500\n",
    "max_cluster_size = 500\n",
    "\n",
    "def recursive_dbscan(X, indices, min_radius, max_radius):\n",
    "    best_clusters = None\n",
    "    best_cluster_size = 0\n",
    "    while min_radius < max_radius:\n",
    "        curr_radius = (min_radius + max_radius) / 2\n",
    "\n",
    "        clusters = DBSCAN(eps=curr_radius, metric='cityblock').fit(X)\n",
    "        no_clusters = len(np.unique(clusters))\n",
    "        \n",
    "        if no_clusters < min_no_clusters: # not enough clusters\n",
    "            max_radius = curr_radius - 1\n",
    "        else:\n",
    "            min_radius = curr_radius + 1\n",
    "            \n",
    "        avg_cluster_size = np.histogram(clusters.labels_)[0].mean()\n",
    "\n",
    "        if avg_cluster_size > best_cluster_size: # choose the biggest cluster possible\n",
    "            best_cluster_size = avg_cluster_size\n",
    "            best_clusters = clusters\n",
    "\n",
    "    if best_clusters is None:\n",
    "        return [indices]\n",
    "    \n",
    "    final_idx = [np.where(best_clusters.labels_ == i)[0] for i in np.unique(best_clusters.labels_)]\n",
    "    final_indices = [indices[i] for i in final_idx]\n",
    "    final_clusters = [X[i] for i in final_idx]\n",
    "    new_clusters = []\n",
    "    for cluster_indices, cluster in zip(final_indices, final_clusters):\n",
    "        if len(cluster) > max_cluster_size:\n",
    "            new_clusters.extend(recursive_dbscan(cluster, cluster_indices, 0.9999 * max_radius, 1.2 * max_radius))\n",
    "        else:\n",
    "            new_clusters.append(cluster_indices)\n",
    "    return new_clusters"
   ]
  },
  {
   "cell_type": "code",
   "execution_count": 192,
   "metadata": {},
   "outputs": [],
   "source": [
    "X = np.array([[order['pickup_location_x'], order['pickup_location_y']] for order in orders])"
   ]
  },
  {
   "cell_type": "code",
   "execution_count": 193,
   "metadata": {},
   "outputs": [],
   "source": [
    "clusters = recursive_dbscan(X, np.arange(len(X)), min_radius, max_radius)"
   ]
  },
  {
   "cell_type": "code",
   "execution_count": 194,
   "metadata": {},
   "outputs": [],
   "source": [
    "clusters = sorted(clusters, key=len)"
   ]
  },
  {
   "cell_type": "code",
   "execution_count": 195,
   "metadata": {},
   "outputs": [
    {
     "data": {
      "text/plain": [
       "array([5])"
      ]
     },
     "execution_count": 195,
     "metadata": {},
     "output_type": "execute_result"
    }
   ],
   "source": [
    "np.sort([len(c) for c in clusters])"
   ]
  },
  {
   "cell_type": "code",
   "execution_count": 196,
   "metadata": {},
   "outputs": [],
   "source": [
    "labels = np.zeros(len(X))\n",
    "for label, cluster in enumerate(clusters):\n",
    "    for idx in cluster:\n",
    "        labels[idx] = label"
   ]
  },
  {
   "cell_type": "code",
   "execution_count": 197,
   "metadata": {},
   "outputs": [
    {
     "data": {
      "image/png": "[encoded data removed]",
      "text/plain": [
       "<Figure size 432x288 with 1 Axes>"
      ]
     },
     "metadata": {
      "needs_background": "light"
     },
     "output_type": "display_data"
    }
   ],
   "source": [
    "n_clusters_ = len(clusters)\n",
    "\n",
    "# #############################################################################\n",
    "# Plot result\n",
    "\n",
    "# Black removed and is used for noise instead.\n",
    "unique_labels = set(labels)\n",
    "colors = [plt.cm.Spectral(each)\n",
    "          for each in np.linspace(0, 1, len(unique_labels))]\n",
    "for k, col in zip(unique_labels, colors):\n",
    "    if k == -1:\n",
    "        # Black used for noise.\n",
    "        col = [0, 0, 0, 1]\n",
    "\n",
    "    class_member_mask = (labels == k)\n",
    "\n",
    "    xy = X[class_member_mask]\n",
    "    plt.plot(xy[:, 0], xy[:, 1], 'o', markerfacecolor=tuple(col),\n",
    "             markeredgecolor='k', markersize=5)\n",
    "\n",
    "plt.title('Number of clusters: %d' % n_clusters_)\n",
    "plt.show()"
   ]
  },
  {
   "cell_type": "markdown",
   "metadata": {},
   "source": [
    "## OR Tools"
   ]
  },
  {
   "cell_type": "code",
   "execution_count": 198,
   "metadata": {},
   "outputs": [],
   "source": [
    "from ortools.constraint_solver import routing_enums_pb2\n",
    "from ortools.constraint_solver import pywrapcp"
   ]
  },
  {
   "cell_type": "code",
   "execution_count": 199,
   "metadata": {},
   "outputs": [],
   "source": [
    "from scipy.spatial.distance import pdist, cdist\n",
    "from collections import defaultdict\n",
    "\n",
    "class ORToolsSolver:\n",
    "\n",
    "    def __init__(self, couriers, orders, depots):\n",
    "        \n",
    "        self.couriers = couriers\n",
    "        self.orders = orders\n",
    "        self.depots = depots\n",
    "        \n",
    "        courier_positions = [[courier['location_x'], courier['location_y']] for courier in couriers]\n",
    "        pickup_positions = [[order['pickup_location_x'], order['pickup_location_y']] for order in orders]\n",
    "        dropoff_positions = [[order['dropoff_location_x'], order['dropoff_location_y']] for order in orders]\n",
    "        depot_positions = [[depot['location_x'], depot['location_y']] for depot in depots]\n",
    "        \n",
    "        self.courier_id_to_node = {courier['courier_id']: idx + 1 for idx, courier in enumerate(couriers)}\n",
    "        self.pickup_id_to_node = {order['pickup_point_id']: idx + 1 + len(couriers) for idx, order in enumerate(orders)}\n",
    "        self.dropoff_id_to_node = {order['dropoff_point_id']: idx + 1 + len(couriers) + len(orders) for idx, \n",
    "                                   order in enumerate(orders)}\n",
    "        self.depot_id_to_node = {depot['point_id']: idx + 1 + len(couriers) + 2 * len(orders) for idx, depot in enumerate(depots)}\n",
    "\n",
    "        all_positions = courier_positions + pickup_positions + dropoff_positions + depot_positions\n",
    "\n",
    "        dist_matrix = cdist(all_positions, all_positions, 'cityblock')\n",
    "        all_payments = - 0.5 * np.tile([0] * len(courier_positions) + [0] * len(pickup_positions) + \n",
    "                                       [0] * len(depot_positions) + payments, (len(all_positions), 1))\n",
    "        payment_shift = all_payments.min()\n",
    "#         dist_payment_matrix = dist_matrix + all_payments\n",
    "#         dist_payment_matrix = dist_payment_matrix - payment_shift\n",
    "#         dist_payment_matrix[np.diag_indices(dist_payment_matrix.shape[0])] = 0\n",
    "        \n",
    "        self.dist_matrix = np.pad(dist_matrix, ((1, 0), (1, 0)), mode='constant')\n",
    "#         self.dist_payment_matrix = np.pad(dist_payment_matrix, ((1, 0), (1, 0)), mode='constant')\n",
    "        \n",
    "        # Create the routing index manager.\n",
    "        self.manager = pywrapcp.RoutingIndexManager(len(self.dist_matrix), len(couriers), \n",
    "                                                    list(range(1, len(couriers) + 1)), \n",
    "                                                    [0] * len(couriers))\n",
    "\n",
    "        # Create Routing Model.\n",
    "        self.routing = pywrapcp.RoutingModel(self.manager)\n",
    "        \n",
    "        time_transit_callback_index = self.routing.RegisterTransitCallback(self.time_callback)\n",
    "\n",
    "        cost_transit_callback_index = self.routing.RegisterTransitCallback(self.time_callback)\n",
    "        self.routing.SetArcCostEvaluatorOfAllVehicles(cost_transit_callback_index)\n",
    "        \n",
    "        # Add Distance constraint.\n",
    "        self.routing.AddDimension(\n",
    "            time_transit_callback_index,\n",
    "            24 * 60,  # courier max wait time\n",
    "            24 * 60,  # courier maximum travel time\n",
    "            False,\n",
    "            'Distance')\n",
    "\n",
    "        time_dimension = self.routing.GetDimensionOrDie('Distance')\n",
    "        time_dimension.SetGlobalSpanCostCoefficient(1)\n",
    "\n",
    "        # cost is 2 times the distance\n",
    "        cost_dimension = self.routing.GetDimensionOrDie('Distance')\n",
    "        cost_dimension.SetGlobalSpanCostCoefficient(2)\n",
    "        \n",
    "        # Add time window constraints for each pickups and dropoffs\n",
    "        for order in orders:\n",
    "            pickup_index = self.manager.NodeToIndex(self.order_to_pickup_node(order))\n",
    "            dropoff_index = self.manager.NodeToIndex(self.order_to_dropoff_node(order))\n",
    "            time_dimension.CumulVar(pickup_index).SetRange(order['pickup_from'], order['pickup_to'])\n",
    "            time_dimension.CumulVar(dropoff_index).SetRange(order['dropoff_from'], order['dropoff_to'])\n",
    "\n",
    "        # Courier time window\n",
    "        for courier_index, courier in enumerate(self.couriers):\n",
    "            index = self.routing.Start(courier_index)\n",
    "            time_dimension.CumulVar(index).SetRange(courier['from'], courier['to'])\n",
    "        \n",
    "        for i in range(len(couriers)):\n",
    "            self.routing.AddVariableMinimizedByFinalizer(\n",
    "                cost_dimension.CumulVar(self.routing.Start(i)))\n",
    "            self.routing.AddVariableMinimizedByFinalizer(\n",
    "                cost_dimension.CumulVar(self.routing.End(i)))\n",
    "        \n",
    "        # Define Transportation Requests.\n",
    "        for order in orders:\n",
    "            pickup_index = self.manager.NodeToIndex(self.order_to_pickup_node(order))\n",
    "            dropoff_index = self.manager.NodeToIndex(self.order_to_dropoff_node(order))\n",
    "\n",
    "            self.routing.AddPickupAndDelivery(pickup_index, dropoff_index)\n",
    "\n",
    "            self.routing.solver().Add(self.routing.VehicleVar(pickup_index) == self.routing.VehicleVar(dropoff_index))\n",
    "\n",
    "            # pickup before dropoff\n",
    "            self.routing.solver().Add(time_dimension.CumulVar(pickup_index) <= time_dimension.CumulVar(dropoff_index))\n",
    "            \n",
    "        # Allow to ignore orders, penalty\n",
    "        for order in orders:\n",
    "            self.routing.AddDisjunction([self.manager.NodeToIndex(self.order_to_pickup_node(order))],  order['payment'] // 2)\n",
    "            self.routing.AddDisjunction([self.manager.NodeToIndex(self.order_to_dropoff_node(order))], order['payment'] // 2)\n",
    "            \n",
    "    def order_to_pickup_node(self, order):\n",
    "        return self.pickup_id_to_node[order['pickup_point_id']]\n",
    "\n",
    "    def order_to_dropoff_node(self, order):\n",
    "        return self.dropoff_id_to_node[order['dropoff_point_id']]\n",
    "\n",
    "    def depot_to_node(self, depot):\n",
    "        return self.depot_id_to_node[depot['point_id']]\n",
    "\n",
    "    def courier_to_node(self, courier):\n",
    "        return self.courier_id_to_node[courier['courier_id']]\n",
    "        \n",
    "    def time_callback(self, from_index, to_index):\n",
    "        \"\"\"Returns the manhattan distance between the two nodes.\"\"\"\n",
    "        # Convert from routing variable Index to distance matrix NodeIndex.\n",
    "        dist = self.dist_matrix[self.manager.IndexToNode(from_index), self.manager.IndexToNode(to_index)]\n",
    "        \n",
    "        if to_index != 0:\n",
    "            dist += 10\n",
    "        \n",
    "        return dist\n",
    "        \n",
    "#     def cost_callback(self, from_index, to_index):\n",
    "#         \"\"\"Returns the manhattan distance between the two nodes.\"\"\"\n",
    "#         # Convert from routing variable Index to distance matrix NodeIndex.\n",
    "#         return self.dist_payment_matrix[self.manager.IndexToNode(from_index)][self.manager.IndexToNode(to_index)]\n",
    "    \n",
    "    def solve(self):\n",
    "        # Setting first solution heuristic.\n",
    "        search_parameters = pywrapcp.DefaultRoutingSearchParameters()\n",
    "        search_parameters.solution_limit = 1\n",
    "#         search_parameters.time_limit.seconds = 180\n",
    "#         search_parameters.lns_time_limit.seconds = 1\n",
    "        search_parameters.savings_parallel_routes = True\n",
    "\n",
    "        search_parameters.first_solution_strategy = (\n",
    "            routing_enums_pb2.FirstSolutionStrategy.AUTOMATIC)\n",
    "        search_parameters.local_search_metaheuristic = (\n",
    "            routing_enums_pb2.LocalSearchMetaheuristic.AUTOMATIC)\n",
    "\n",
    "        # Solve the problem.\n",
    "        assignment = self.routing.SolveWithParameters(search_parameters)\n",
    "        return assignment\n",
    "    \n",
    "    def is_dropoff_node(self, node):\n",
    "        return node > 1 + len(self.couriers) + len(self.orders)\n",
    "    \n",
    "    def get_routes(self, assignment, verbose=False):\n",
    "        \"\"\"Get routes from assignment.\"\"\"\n",
    "        total_distance = 0\n",
    "        total_dropped = 0\n",
    "        courier_routes = defaultdict(lambda: [])\n",
    "        courier_distance = []\n",
    "        for courier_index in range(len(self.couriers)):\n",
    "            index = self.routing.Start(courier_index)\n",
    "            courier_routes[courier_index].append(index)\n",
    "            plan_output = 'Route for courier {}:\\n'.format(courier_index)\n",
    "            route_distance = 0\n",
    "            while not self.routing.IsEnd(index):\n",
    "    \n",
    "                plan_output += ' {} -> '.format(self.manager.IndexToNode(index))\n",
    "                previous_index = index\n",
    "                index = assignment.Value(self.routing.NextVar(previous_index))\n",
    "                courier_routes[courier_index].append(index)\n",
    "                \n",
    "                route_distance += self.routing.GetArcCostForVehicle(\n",
    "                    previous_index, index, courier_index)\n",
    "                \n",
    "                if self.is_dropoff_node(self.manager.IndexToNode(index)):\n",
    "                    total_dropped += 1\n",
    "    #             if previous_index > len(couriers) + 1 and index > len(couriers) + 1:\n",
    "    #                 route_cost += payment_shift\n",
    "    #         route_cost *= 2 \n",
    "    \n",
    "            courier_distance.append(route_distance)\n",
    "            plan_output += '{}\\n'.format(self.manager.IndexToNode(index))\n",
    "            plan_output += 'Cost of the route: {}m\\n'.format(route_distance)\n",
    "            if verbose and previous_index != self.routing.Start(courier_index):\n",
    "                print(plan_output)\n",
    "            total_distance += route_distance\n",
    "        if verbose:\n",
    "            print('Total Cost of all routes: {}m, Fractions of orders dropped off: {}'.format(\n",
    "                total_distance, total_dropped / len(self.orders)))\n",
    "        return {courier: {'route': route[:-1], 'time': distance} \n",
    "                for (courier, route), distance in zip(courier_routes.items(), courier_distance) if len(route) > 2}\n",
    "    "
   ]
  },
  {
   "cell_type": "code",
   "execution_count": 200,
   "metadata": {},
   "outputs": [],
   "source": [
    "def get_node_action(courier, node, orders):\n",
    "    n = len(orders)\n",
    "    point_id = 'pickup_point_id' if node < n else 'dropoff_point_id'\n",
    "    action = 'pickup' if node < n else 'dropoff'\n",
    "    node = node if node < n else node - n\n",
    "    return {'courier_id': courier['courier_id'], 'action': action, \n",
    "            'order_id': orders[node]['order_id'], 'point_id': orders[node][point_id]}"
   ]
  },
  {
   "cell_type": "code",
   "execution_count": 201,
   "metadata": {},
   "outputs": [
    {
     "name": "stderr",
     "output_type": "stream",
     "text": [
      "100%|██████████| 1/1 [00:00<00:00, 89.94it/s]\n"
     ]
    }
   ],
   "source": [
    "from tqdm import tqdm\n",
    "import copy\n",
    "\n",
    "solution = []\n",
    "\n",
    "temp_couriers = copy.deepcopy(couriers)\n",
    "clusters_copy = copy.deepcopy(clusters)\n",
    "\n",
    "for cluster in tqdm(np.random.permutation(clusters_copy)):\n",
    "\n",
    "    cluster_orders = [orders[i] for i in cluster]\n",
    "    solver = ORToolsSolver(couriers, cluster_orders, depots)\n",
    "    assignment = solver.solve()\n",
    "    try:\n",
    "        cluster_routes = solver.get_routes(assignment)\n",
    "\n",
    "        # update courier time window and starting node according to last destination\n",
    "        for courier_node, courier_info in cluster_routes.items():\n",
    "            temp_couriers[courier_node]['from'] += courier_info['time']\n",
    "\n",
    "            end_node = courier_info['route'][-1] - len(temp_couriers)\n",
    "            end_node = end_node if end_node < len(cluster_orders) else end_node - len(cluster_orders)\n",
    "\n",
    "            temp_couriers[courier_node]['location_x'] = orders[cluster[end_node]]['dropoff_location_x']\n",
    "            temp_couriers[courier_node]['location_y'] = orders[cluster[end_node]]['dropoff_location_y']\n",
    "\n",
    "        cluster_solution = [get_node_action(temp_couriers[courier_node], node - len(temp_couriers), cluster_orders) \n",
    "                            for courier_node, info in cluster_routes.items() for node in info['route'][1:]\n",
    "                           ]\n",
    "\n",
    "        solution.extend(cluster_solution)\n",
    "    except:\n",
    "        print(cluster)\n",
    "        pass"
   ]
  },
  {
   "cell_type": "code",
   "execution_count": 202,
   "metadata": {},
   "outputs": [
    {
     "data": {
      "text/plain": [
       "10"
      ]
     },
     "execution_count": 202,
     "metadata": {},
     "output_type": "execute_result"
    }
   ],
   "source": [
    "len(solution)"
   ]
  },
  {
   "cell_type": "code",
   "execution_count": 203,
   "metadata": {},
   "outputs": [
    {
     "data": {
      "text/plain": [
       "{'route': [2, 9, 14], 'time': 115}"
      ]
     },
     "execution_count": 203,
     "metadata": {},
     "output_type": "execute_result"
    }
   ],
   "source": [
    "courier_info"
   ]
  },
  {
   "cell_type": "code",
   "execution_count": 204,
   "metadata": {},
   "outputs": [
    {
     "data": {
      "text/plain": [
       "{1: {'route': [1, 7, 5, 6, 10, 11, 12, 8, 13], 'time': 431},\n",
       " 2: {'route': [2, 9, 14], 'time': 115}}"
      ]
     },
     "execution_count": 204,
     "metadata": {},
     "output_type": "execute_result"
    }
   ],
   "source": [
    "cluster_routes"
   ]
  },
  {
   "cell_type": "code",
   "execution_count": 205,
   "metadata": {},
   "outputs": [
    {
     "data": {
      "text/plain": [
       "array([0, 1, 2, 3, 4])"
      ]
     },
     "execution_count": 205,
     "metadata": {},
     "output_type": "execute_result"
    }
   ],
   "source": [
    "cluster"
   ]
  },
  {
   "cell_type": "code",
   "execution_count": 128,
   "metadata": {},
   "outputs": [
    {
     "data": {
      "text/plain": [
       "[5, 6, 3, 10, 1, 8, 12, 13]"
      ]
     },
     "execution_count": 128,
     "metadata": {},
     "output_type": "execute_result"
    }
   ],
   "source": [
    "[node - 300 for node in cluster_routes[181]['route'][1:]]"
   ]
  },
  {
   "cell_type": "code",
   "execution_count": 124,
   "metadata": {},
   "outputs": [
    {
     "data": {
      "text/plain": [
       "array([1885, 3157, 3995, 4330, 6236])"
      ]
     },
     "execution_count": 124,
     "metadata": {},
     "output_type": "execute_result"
    }
   ],
   "source": [
    "clusters[10]"
   ]
  },
  {
   "cell_type": "code",
   "execution_count": 41,
   "metadata": {},
   "outputs": [
    {
     "data": {
      "text/plain": [
       "{'courier_id': 140,\n",
       " 'location_x': 63,\n",
       " 'location_y': 50,\n",
       " 'from': 546,\n",
       " 'to': 1440}"
      ]
     },
     "execution_count": 41,
     "metadata": {},
     "output_type": "execute_result"
    }
   ],
   "source": [
    "temp_couriers[140 - 1]"
   ]
  },
  {
   "cell_type": "code",
   "execution_count": 42,
   "metadata": {},
   "outputs": [
    {
     "data": {
      "text/plain": [
       "{'order_id': 12660,\n",
       " 'pickup_point_id': 42660,\n",
       " 'pickup_from': 330,\n",
       " 'pickup_to': 720,\n",
       " 'pickup_location_x': 322,\n",
       " 'pickup_location_y': 61,\n",
       " 'dropoff_point_id': 62660,\n",
       " 'dropoff_from': 780,\n",
       " 'dropoff_to': 840,\n",
       " 'dropoff_location_x': 63,\n",
       " 'dropoff_location_y': 50,\n",
       " 'payment': 679}"
      ]
     },
     "execution_count": 42,
     "metadata": {},
     "output_type": "execute_result"
    }
   ],
   "source": [
    "orders[cluster[end_node]]"
   ]
  },
  {
   "cell_type": "code",
   "execution_count": 206,
   "metadata": {},
   "outputs": [],
   "source": [
    "json.dump(solution, open('solution_hard.json', 'w'))"
   ]
  },
  {
   "cell_type": "code",
   "execution_count": null,
   "metadata": {},
   "outputs": [],
   "source": []
  }
 ],
 "metadata": {
  "kernelspec": {
   "display_name": "Python 3",
   "language": "python",
   "name": "python3"
  },
  "language_info": {
   "codemirror_mode": {
    "name": "ipython",
    "version": 3
   },
   "file_extension": ".py",
   "mimetype": "text/x-python",
   "name": "python",
   "nbconvert_exporter": "python",
   "pygments_lexer": "ipython3",
   "version": "3.6.3"
  }
 },
 "nbformat": 4,
 "nbformat_minor": 4
}
